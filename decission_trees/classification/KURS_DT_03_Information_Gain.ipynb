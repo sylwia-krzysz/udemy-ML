{
  "nbformat": 4,
  "nbformat_minor": 0,
  "metadata": {
    "colab": {
      "name": "KURS_DT_03_Information_Gain.ipynb",
      "provenance": [],
      "collapsed_sections": [],
      "include_colab_link": true
    },
    "kernelspec": {
      "name": "python3",
      "display_name": "Python 3"
    }
  },
  "cells": [
    {
      "cell_type": "markdown",
      "metadata": {
        "id": "view-in-github",
        "colab_type": "text"
      },
      "source": [
        "<a href=\"https://colab.research.google.com/github/sylwia-krzysz/udemy-ML/blob/main/decission_trees/classification/KURS_DT_03_Information_Gain.ipynb\" target=\"_parent\"><img src=\"https://colab.research.google.com/assets/colab-badge.svg\" alt=\"Open In Colab\"/></a>"
      ]
    },
    {
      "cell_type": "code",
      "metadata": {
        "id": "N9kHmWCHyCYT"
      },
      "source": [
        "import numpy as np\n",
        "import matplotlib.pyplot as plt\n",
        "import seaborn as sns\n",
        "sns.set()\n",
        "sns.set_style(\"darkgrid\")"
      ],
      "execution_count": null,
      "outputs": []
    },
    {
      "cell_type": "code",
      "metadata": {
        "id": "EoOwM8bno3wd"
      },
      "source": [
        "def entropy(x):\n",
        "    return -np.sum(x * np.log2(x))"
      ],
      "execution_count": null,
      "outputs": []
    },
    {
      "cell_type": "code",
      "metadata": {
        "id": "14M4BLxjpKst",
        "colab": {
          "base_uri": "https://localhost:8080/",
          "height": 66
        },
        "outputId": "7b5bd996-9468-4759-8782-f99841ede235"
      },
      "source": [
        "print(entropy([0.5, 0.5]))\n",
        "print(entropy([0.8, 0.2]))\n",
        "print(entropy([0.95, 0.05]))"
      ],
      "execution_count": null,
      "outputs": [
        {
          "output_type": "stream",
          "text": [
            "1.0\n",
            "0.7219280948873623\n",
            "0.28639695711595625\n"
          ],
          "name": "stdout"
        }
      ]
    },
    {
      "cell_type": "code",
      "metadata": {
        "id": "5QCMyVtdw2qt",
        "colab": {
          "base_uri": "https://localhost:8080/",
          "height": 183
        },
        "outputId": "c66c1882-0667-4328-e551-2010142d2717"
      },
      "source": [
        "p = np.arange(0.01, 1.0, 0.01)\n",
        "q = 1 - p\n",
        "pq = np.c_[p,q]\n",
        "pq[:10]"
      ],
      "execution_count": null,
      "outputs": [
        {
          "output_type": "execute_result",
          "data": {
            "text/plain": [
              "array([[0.01, 0.99],\n",
              "       [0.02, 0.98],\n",
              "       [0.03, 0.97],\n",
              "       [0.04, 0.96],\n",
              "       [0.05, 0.95],\n",
              "       [0.06, 0.94],\n",
              "       [0.07, 0.93],\n",
              "       [0.08, 0.92],\n",
              "       [0.09, 0.91],\n",
              "       [0.1 , 0.9 ]])"
            ]
          },
          "metadata": {
            "tags": []
          },
          "execution_count": 5
        }
      ]
    },
    {
      "cell_type": "code",
      "metadata": {
        "id": "ZUxMxG49v8Gt",
        "colab": {
          "base_uri": "https://localhost:8080/",
          "height": 1000
        },
        "outputId": "55dece9d-0f03-4da7-b465-579f67663b35"
      },
      "source": [
        "entropies = [entropy(pair) for pair in pq]\n",
        "entropies"
      ],
      "execution_count": null,
      "outputs": [
        {
          "output_type": "execute_result",
          "data": {
            "text/plain": [
              "[0.08079313589591118,\n",
              " 0.14144054254182067,\n",
              " 0.1943918578315762,\n",
              " 0.24229218908241482,\n",
              " 0.28639695711595625,\n",
              " 0.32744491915447627,\n",
              " 0.3659236509002231,\n",
              " 0.4021791902022728,\n",
              " 0.43646981706410287,\n",
              " 0.4689955935892812,\n",
              " 0.499915958164528,\n",
              " 0.5293608652873644,\n",
              " 0.5574381850279891,\n",
              " 0.584238811642856,\n",
              " 0.6098403047164005,\n",
              " 0.6343095546405662,\n",
              " 0.6577047787442195,\n",
              " 0.6800770457282799,\n",
              " 0.7014714598838974,\n",
              " 0.7219280948873623,\n",
              " 0.7414827399312737,\n",
              " 0.7601675029619657,\n",
              " 0.7780113035465377,\n",
              " 0.7950402793845222,\n",
              " 0.8112781244591328,\n",
              " 0.8267463724926178,\n",
              " 0.8414646362081757,\n",
              " 0.8554508105601307,\n",
              " 0.8687212463394046,\n",
              " 0.8812908992306927,\n",
              " 0.8931734583778567,\n",
              " 0.9043814577244939,\n",
              " 0.9149263727797275,\n",
              " 0.9248187049730301,\n",
              " 0.9340680553754911,\n",
              " 0.9426831892554923,\n",
              " 0.9506720926870659,\n",
              " 0.9580420222262995,\n",
              " 0.9647995485050872,\n",
              " 0.9709505944546686,\n",
              " 0.976500468757824,\n",
              " 0.9814538950336537,\n",
              " 0.9858150371789198,\n",
              " 0.9895875212220556,\n",
              " 0.9927744539878083,\n",
              " 0.9953784388202257,\n",
              " 0.9974015885677396,\n",
              " 0.9988455359952018,\n",
              " 0.9997114417528099,\n",
              " 1.0,\n",
              " 0.9997114417528099,\n",
              " 0.9988455359952018,\n",
              " 0.9974015885677396,\n",
              " 0.9953784388202257,\n",
              " 0.9927744539878083,\n",
              " 0.9895875212220556,\n",
              " 0.9858150371789198,\n",
              " 0.9814538950336534,\n",
              " 0.976500468757824,\n",
              " 0.9709505944546686,\n",
              " 0.9647995485050872,\n",
              " 0.9580420222262995,\n",
              " 0.9506720926870659,\n",
              " 0.9426831892554921,\n",
              " 0.9340680553754911,\n",
              " 0.92481870497303,\n",
              " 0.9149263727797274,\n",
              " 0.9043814577244937,\n",
              " 0.8931734583778567,\n",
              " 0.8812908992306926,\n",
              " 0.8687212463394045,\n",
              " 0.8554508105601307,\n",
              " 0.8414646362081757,\n",
              " 0.8267463724926178,\n",
              " 0.8112781244591328,\n",
              " 0.7950402793845223,\n",
              " 0.7780113035465376,\n",
              " 0.7601675029619656,\n",
              " 0.7414827399312736,\n",
              " 0.7219280948873623,\n",
              " 0.7014714598838974,\n",
              " 0.6800770457282796,\n",
              " 0.6577047787442193,\n",
              " 0.6343095546405659,\n",
              " 0.6098403047164005,\n",
              " 0.584238811642856,\n",
              " 0.5574381850279891,\n",
              " 0.5293608652873644,\n",
              " 0.49991595816452794,\n",
              " 0.46899559358928117,\n",
              " 0.4364698170641028,\n",
              " 0.40217919020227266,\n",
              " 0.36592365090022305,\n",
              " 0.327444919154476,\n",
              " 0.2863969571159558,\n",
              " 0.2422921890824144,\n",
              " 0.1943918578315763,\n",
              " 0.14144054254182076,\n",
              " 0.08079313589591124]"
            ]
          },
          "metadata": {
            "tags": []
          },
          "execution_count": 7
        }
      ]
    },
    {
      "cell_type": "code",
      "metadata": {
        "id": "mPYF8Q52pNec",
        "colab": {
          "base_uri": "https://localhost:8080/",
          "height": 290
        },
        "outputId": "25a6e79b-56d9-4351-a44d-12d479eb6327"
      },
      "source": [
        "plt.plot(p, entropies)"
      ],
      "execution_count": null,
      "outputs": [
        {
          "output_type": "execute_result",
          "data": {
            "text/plain": [
              "[<matplotlib.lines.Line2D at 0x7f907fcbc828>]"
            ]
          },
          "metadata": {
            "tags": []
          },
          "execution_count": 8
        },
        {
          "output_type": "display_data",
          "data": {
            "image/png": "[encoded data removed]",
            "text/plain": [
              "<Figure size 432x288 with 1 Axes>"
            ]
          },
          "metadata": {
            "tags": []
          }
        }
      ]
    },
    {
      "cell_type": "markdown",
      "metadata": {
        "id": "mpXQxwex03XI"
      },
      "source": [
        "### Rozważmy dane\n",
        "\n",
        "| ID | Dochód | Liczba osób w gospodarstwie | Wiarygodność | Udzielenie pożyczki |\n",
        "|----|--------|-----------------------------|--------------|---------------------|\n",
        "| 1  | niski  | 1                           | niska        | 0                   |\n",
        "| 2  | niski  | 3                           | niska        | 0                   |\n",
        "| 3  | średni | 4                           | niska        | 0                   |\n",
        "| 4  | wysoki | 3                           | średnia      | 0                   |\n",
        "| 5  | wysoki | 4                           | wysoka       | 1                   |\n",
        "| 6  | niski  | 4                           | niska        | 0                   |\n",
        "| 7  | średni | 2                           | średnia      | 1                   |\n",
        "| 8  | wysoki | 3                           | wysoka       | 1                   |\n",
        "| 9  | średni | 5                           | niska        | 0                   |\n",
        "| 10 | średni | 1                           | wysoka       | 1                   |\n",
        "\n",
        "\n",
        "Rozkład zmiennej Udzienie pożyczki:\n",
        "\n",
        "| Udzielenie pożyczki | 0    | 1    |\n",
        "|---------------------|------|------|\n",
        "| $p_{i}$               | 6/10 | 4/10 |\n",
        "\n",
        "\n",
        "Wzór na entropię:\n",
        "###  $E = - \\sum_{i=1}^{n}p_{i} \\cdot log_{2}p_{i}$\n",
        "\n",
        "Entropia po podziale:\n",
        "\n",
        "###  $E_{after}  = \\sum_{i=1}^{m} \\frac{S_{i}}{S}Entropia(S_{i})$\n",
        "\n",
        "gdzie \n",
        "$S$ - podział\n",
        "$m$ - liczba podziałów\n",
        "\n"
      ]
    },
    {
      "cell_type": "code",
      "metadata": {
        "id": "Wn4GMfCw2gBg",
        "colab": {
          "base_uri": "https://localhost:8080/",
          "height": 33
        },
        "outputId": "d8bece9a-5869-46a3-eda1-3c99ab04daf6"
      },
      "source": [
        "entropia = -(6/10 * np.log2(6/10) + (4/10) * np.log2(4/10))\n",
        "entropia"
      ],
      "execution_count": null,
      "outputs": [
        {
          "output_type": "execute_result",
          "data": {
            "text/plain": [
              "0.9709505944546686"
            ]
          },
          "metadata": {
            "tags": []
          },
          "execution_count": 9
        }
      ]
    },
    {
      "cell_type": "markdown",
      "metadata": {
        "id": "IrsytMNL7Ik7"
      },
      "source": [
        "### Rozkład zmiennej `Wiarygodność`\n",
        "\n",
        "|         | udział | udzielenie pożyczki = 0 | udzielenie pożyczki = 1 |  Entropia\n",
        "|---------|--------|-------------------------|-------------------------|--------|\n",
        "| niska   | 5/10   | 1                       | 0                       | 0\n",
        "| średnia | 2/10   | 1/2                     | 1/2                     | 1\n",
        "| wysoka  | 3/10   | 0                       | 1                       | 0\n",
        "\n",
        "Entropia po podziale"
      ]
    },
    {
      "cell_type": "code",
      "metadata": {
        "id": "bdnlzsc54Jsp",
        "colab": {
          "base_uri": "https://localhost:8080/",
          "height": 33
        },
        "outputId": "08935f5c-30ba-46bb-b8ab-9f6fa4517a66"
      },
      "source": [
        "entropia_wiarygodnosc = 5/10 * 0 + 2/10 * 1 + 3/10 * 0\n",
        "entropia_wiarygodnosc"
      ],
      "execution_count": null,
      "outputs": [
        {
          "output_type": "execute_result",
          "data": {
            "text/plain": [
              "0.2"
            ]
          },
          "metadata": {
            "tags": []
          },
          "execution_count": 10
        }
      ]
    },
    {
      "cell_type": "markdown",
      "metadata": {
        "id": "j8vPopSj76no"
      },
      "source": [
        "### Rozkład zmiennej  `Dochód`\n",
        "\n",
        "|        | udział | udzielenie pożyczki = 0 | udzielenie pożyczki = 1 | Entropia\n",
        "|--------|--------|-------------------------|-------------------------|----------|\n",
        "| niski  | 3/10   | 1                       | 0                       |0\n",
        "| sredni | 4/10   | 2/4                     | 2/4                     |1\n",
        "| wysoki | 3/10   | 1/3                     | 2/3                     | 0.9183\n",
        "\n",
        "Entropia po podziale"
      ]
    },
    {
      "cell_type": "code",
      "metadata": {
        "id": "a1GUwpxO8p6j",
        "colab": {
          "base_uri": "https://localhost:8080/",
          "height": 33
        },
        "outputId": "873e3a5f-faab-420e-fd00-4c032cc80480"
      },
      "source": [
        "entropia_dochod = 3/10 * 0 + 4/10 * 1 + 3/10 * 0.9183\n",
        "entropia_dochod"
      ],
      "execution_count": null,
      "outputs": [
        {
          "output_type": "execute_result",
          "data": {
            "text/plain": [
              "0.67549"
            ]
          },
          "metadata": {
            "tags": []
          },
          "execution_count": 11
        }
      ]
    },
    {
      "cell_type": "markdown",
      "metadata": {
        "id": "lsKWqx_t85ra"
      },
      "source": [
        "### Zysk Informacyjny\n",
        "\n",
        "$IG (Information\\ Gain) = Entropia\\ przed\\ podziałem - Entropia\\ po\\ podziale$"
      ]
    },
    {
      "cell_type": "code",
      "metadata": {
        "id": "LbyuFobJ824T",
        "colab": {
          "base_uri": "https://localhost:8080/",
          "height": 50
        },
        "outputId": "18851941-a3a7-4ef5-c049-af1f499f7054"
      },
      "source": [
        "ig_wiarygodnosc = entropia - entropia_wiarygodnosc\n",
        "ig_dochod = entropia - entropia_dochod\n",
        "\n",
        "print('Zysk informacyjny (IG): wiarygodność:', ig_wiarygodnosc)\n",
        "print('Zysk informacyjny (IG): dochód:', ig_dochod)"
      ],
      "execution_count": null,
      "outputs": [
        {
          "output_type": "stream",
          "text": [
            "Zysk informacyjny (IG): wiarygodność: 0.7709505944546686\n",
            "Zysk informacyjny (IG): dochód: 0.29546059445466855\n"
          ],
          "name": "stdout"
        }
      ]
    }
  ]
}