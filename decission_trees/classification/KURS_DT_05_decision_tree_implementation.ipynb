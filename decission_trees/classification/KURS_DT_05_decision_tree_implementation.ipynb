{
  "nbformat": 4,
  "nbformat_minor": 0,
  "metadata": {
    "colab": {
      "name": "KURS_DT_05_decision_tree_implementation.ipynb",
      "provenance": [],
      "collapsed_sections": [],
      "include_colab_link": true
    },
    "kernelspec": {
      "name": "python3",
      "display_name": "Python 3"
    },
    "accelerator": "GPU"
  },
  "cells": [
    {
      "cell_type": "markdown",
      "metadata": {
        "id": "view-in-github",
        "colab_type": "text"
      },
      "source": [
        "<a href=\"https://colab.research.google.com/github/sylwia-krzysz/udemy-ML/blob/main/decission_trees/classification/KURS_DT_05_decision_tree_implementation.ipynb\" target=\"_parent\"><img src=\"https://colab.research.google.com/assets/colab-badge.svg\" alt=\"Open In Colab\"/></a>"
      ]
    },
    {
      "cell_type": "markdown",
      "metadata": {
        "id": "ZPWfOa8c2AQF"
      },
      "source": [
        "## Implementacja drzewa decyzyjnego"
      ]
    },
    {
      "cell_type": "code",
      "metadata": {
        "id": "KG5t0d2ArMNY"
      },
      "source": [
        "import numpy as np\n",
        "import pandas as pd"
      ],
      "execution_count": null,
      "outputs": []
    },
    {
      "cell_type": "markdown",
      "metadata": {
        "id": "JC7rLSZ42FAb"
      },
      "source": [
        "### Wygenerowanie zbioru danych"
      ]
    },
    {
      "cell_type": "code",
      "metadata": {
        "id": "depL66i4t9iE"
      },
      "source": [
        "dataset = {'Dochód':['niski','średni','średni','średni','średni','wysoki','niski','wysoki','średni','niski'],\n",
        "       'Wiek':[25, 36, 36, 25 ,28, 28, 25, 25, 36 ,36],\n",
        "       'Wiarygodność':['niska','średnia','wysoka','niska','średnia','wysoka','niska','wysoka','średnia','średnia'],\n",
        "       'Pożyczka':['Nie','Tak','Tak','Nie','Tak','Tak','Nie','Tak','Tak','Nie']}"
      ],
      "execution_count": null,
      "outputs": []
    },
    {
      "cell_type": "code",
      "metadata": {
        "id": "cG35FZPcuIjD",
        "colab": {
          "base_uri": "https://localhost:8080/",
          "height": 347
        },
        "outputId": "d8dd03ec-b7eb-4d18-d024-943225d9bddc"
      },
      "source": [
        "df = pd.DataFrame(dataset)\n",
        "df"
      ],
      "execution_count": null,
      "outputs": [
        {
          "output_type": "execute_result",
          "data": {
            "text/html": [
              "<div>\n",
              "<style scoped>\n",
              "    .dataframe tbody tr th:only-of-type {\n",
              "        vertical-align: middle;\n",
              "    }\n",
              "\n",
              "    .dataframe tbody tr th {\n",
              "        vertical-align: top;\n",
              "    }\n",
              "\n",
              "    .dataframe thead th {\n",
              "        text-align: right;\n",
              "    }\n",
              "</style>\n",
              "<table border=\"1\" class=\"dataframe\">\n",
              "  <thead>\n",
              "    <tr style=\"text-align: right;\">\n",
              "      <th></th>\n",
              "      <th>Dochód</th>\n",
              "      <th>Wiek</th>\n",
              "      <th>Wiarygodność</th>\n",
              "      <th>Pożyczka</th>\n",
              "    </tr>\n",
              "  </thead>\n",
              "  <tbody>\n",
              "    <tr>\n",
              "      <th>0</th>\n",
              "      <td>niski</td>\n",
              "      <td>25</td>\n",
              "      <td>niska</td>\n",
              "      <td>Nie</td>\n",
              "    </tr>\n",
              "    <tr>\n",
              "      <th>1</th>\n",
              "      <td>średni</td>\n",
              "      <td>36</td>\n",
              "      <td>średnia</td>\n",
              "      <td>Tak</td>\n",
              "    </tr>\n",
              "    <tr>\n",
              "      <th>2</th>\n",
              "      <td>średni</td>\n",
              "      <td>36</td>\n",
              "      <td>wysoka</td>\n",
              "      <td>Tak</td>\n",
              "    </tr>\n",
              "    <tr>\n",
              "      <th>3</th>\n",
              "      <td>średni</td>\n",
              "      <td>25</td>\n",
              "      <td>niska</td>\n",
              "      <td>Nie</td>\n",
              "    </tr>\n",
              "    <tr>\n",
              "      <th>4</th>\n",
              "      <td>średni</td>\n",
              "      <td>28</td>\n",
              "      <td>średnia</td>\n",
              "      <td>Tak</td>\n",
              "    </tr>\n",
              "    <tr>\n",
              "      <th>5</th>\n",
              "      <td>wysoki</td>\n",
              "      <td>28</td>\n",
              "      <td>wysoka</td>\n",
              "      <td>Tak</td>\n",
              "    </tr>\n",
              "    <tr>\n",
              "      <th>6</th>\n",
              "      <td>niski</td>\n",
              "      <td>25</td>\n",
              "      <td>niska</td>\n",
              "      <td>Nie</td>\n",
              "    </tr>\n",
              "    <tr>\n",
              "      <th>7</th>\n",
              "      <td>wysoki</td>\n",
              "      <td>25</td>\n",
              "      <td>wysoka</td>\n",
              "      <td>Tak</td>\n",
              "    </tr>\n",
              "    <tr>\n",
              "      <th>8</th>\n",
              "      <td>średni</td>\n",
              "      <td>36</td>\n",
              "      <td>średnia</td>\n",
              "      <td>Tak</td>\n",
              "    </tr>\n",
              "    <tr>\n",
              "      <th>9</th>\n",
              "      <td>niski</td>\n",
              "      <td>36</td>\n",
              "      <td>średnia</td>\n",
              "      <td>Nie</td>\n",
              "    </tr>\n",
              "  </tbody>\n",
              "</table>\n",
              "</div>"
            ],
            "text/plain": [
              "   Dochód  Wiek Wiarygodność Pożyczka\n",
              "0   niski    25        niska      Nie\n",
              "1  średni    36      średnia      Tak\n",
              "2  średni    36       wysoka      Tak\n",
              "3  średni    25        niska      Nie\n",
              "4  średni    28      średnia      Tak\n",
              "5  wysoki    28       wysoka      Tak\n",
              "6   niski    25        niska      Nie\n",
              "7  wysoki    25       wysoka      Tak\n",
              "8  średni    36      średnia      Tak\n",
              "9   niski    36      średnia      Nie"
            ]
          },
          "metadata": {
            "tags": []
          },
          "execution_count": 3
        }
      ]
    },
    {
      "cell_type": "markdown",
      "metadata": {
        "id": "0tOJqusiuXXX"
      },
      "source": [
        "### Entropia:\n",
        "### $$E = - \\sum_{i=1}^{N}p_{i} \\cdot log_{2}p_{i}$$\n",
        "\n",
        "gdzie $p_{i}$ jest proporcją  liczby elementów w tej grupie podziału do liczby elementów w grupie przed podziałem"
      ]
    },
    {
      "cell_type": "markdown",
      "metadata": {
        "id": "vt8K3-Rk5VYN"
      },
      "source": [
        "### Łagodne wprowadzenie"
      ]
    },
    {
      "cell_type": "code",
      "metadata": {
        "id": "A1ycgal9uhuT",
        "colab": {
          "base_uri": "https://localhost:8080/",
          "height": 33
        },
        "outputId": "d9e63735-d77b-4f7a-dc41-460156d6494e"
      },
      "source": [
        "entropy_node = 0\n",
        "values = df.Pożyczka.unique()\n",
        "\n",
        "for value in values:\n",
        "    fraction = df.Pożyczka.value_counts()[value] / len(df.Pożyczka)\n",
        "    entropy_node += -fraction * np.log2(fraction)\n",
        "    \n",
        "entropy_node    "
      ],
      "execution_count": null,
      "outputs": [
        {
          "output_type": "execute_result",
          "data": {
            "text/plain": [
              "0.9709505944546686"
            ]
          },
          "metadata": {
            "tags": []
          },
          "execution_count": 4
        }
      ]
    },
    {
      "cell_type": "code",
      "metadata": {
        "id": "anI6tqdNvllo"
      },
      "source": [
        "# najmniejsza reprezentowalna liczba, na potrzeby dzielenia (zeby nie dzielic przez zero)\n",
        "epsilon = np.finfo(float).eps\n",
        "\n",
        "def calc_entropy(attribute):\n",
        "    \"\"\"\n",
        "    Funkcja obliczająca entropię dla wskazanego atrybutu (zmiennej).\n",
        "    \"\"\"\n",
        "    target_variables = df.Pożyczka.unique()\n",
        "    variables = df[attribute].unique()\n",
        "    entropy_attribute = 0\n",
        "    for variable in variables:\n",
        "        entropy_each_feature = 0\n",
        "        for target_variable in target_variables:\n",
        "            num = len(df[attribute][df[attribute] == variable][df.Pożyczka == target_variable])\n",
        "            den = len(df[attribute][df[attribute] == variable])\n",
        "            fraction = num / (den + epsilon)\n",
        "            entropy_each_feature += -fraction * np.log2(fraction + epsilon)\n",
        "        fraction2 = den / len(df)\n",
        "        entropy_attribute += -fraction2 * entropy_each_feature\n",
        "    entropy_attribute = abs(entropy_attribute)\n",
        "    return entropy_attribute"
      ],
      "execution_count": null,
      "outputs": []
    },
    {
      "cell_type": "code",
      "metadata": {
        "id": "g76sroKP0MV-"
      },
      "source": [
        "def information_gain(entropy_node, entropy_attribute):\n",
        "    \"\"\"\n",
        "    Funkcja zwracająca zysk informacyjny.\n",
        "    \"\"\"\n",
        "    return entropy_node - entropy_attribute"
      ],
      "execution_count": null,
      "outputs": []
    },
    {
      "cell_type": "code",
      "metadata": {
        "id": "Aunz5gPs0gJP",
        "colab": {
          "base_uri": "https://localhost:8080/",
          "height": 66
        },
        "outputId": "2ec07176-70c4-4994-a19c-00557507ccf7"
      },
      "source": [
        "entropy_Dochod = calc_entropy('Dochód')\n",
        "entropy_Wiek = calc_entropy('Wiek')\n",
        "entropy_Wiarygodnosc = calc_entropy('Wiarygodność')\n",
        "\n",
        "print('Entropia Dochód', entropy_Dochod)\n",
        "print('Entropia Wiek', entropy_Wiek)\n",
        "print('Entropia Wiarygodność', entropy_Wiarygodnosc)"
      ],
      "execution_count": null,
      "outputs": [
        {
          "output_type": "stream",
          "text": [
            "Entropia Dochód 0.3609640474436807\n",
            "Entropia Wiek 0.6490224995673056\n",
            "Entropia Wiarygodność 0.32451124978365264\n"
          ],
          "name": "stdout"
        }
      ]
    },
    {
      "cell_type": "code",
      "metadata": {
        "id": "ljV66E_Z0gBY",
        "colab": {
          "base_uri": "https://localhost:8080/",
          "height": 66
        },
        "outputId": "5f0bb31b-4b7a-4419-a515-92807b92e174"
      },
      "source": [
        "ig_Dochod = information_gain(entropy_node, entropy_Dochod)\n",
        "ig_Wiek = information_gain(entropy_node, entropy_Wiek)\n",
        "ig_Wiarygodnosc = information_gain(entropy_node, entropy_Wiarygodnosc)\n",
        "\n",
        "print('Zysk informacyjny {}: {}'.format('Dochód', round(ig_Dochod, 4)))\n",
        "print('Zysk informacyjny {}: {}'.format('Wiek', round(ig_Wiek, 4)))\n",
        "print('Zysk informacyjny {}: {}'.format('Wiarygodność', round(ig_Wiarygodnosc, 4)))"
      ],
      "execution_count": null,
      "outputs": [
        {
          "output_type": "stream",
          "text": [
            "Zysk informacyjny Dochód: 0.61\n",
            "Zysk informacyjny Wiek: 0.3219\n",
            "Zysk informacyjny Wiarygodność: 0.6464\n"
          ],
          "name": "stdout"
        }
      ]
    },
    {
      "cell_type": "markdown",
      "metadata": {
        "id": "Olgki-aL4-Y-"
      },
      "source": [
        "### Pseudokod (Zarys)\n",
        "\n",
        "1. obliczenie entropii dla zniennej docelowej\n",
        "    1. obliczenie entropii dla każego atrybutu\n",
        "    2. znalezienie atybutu o najwyższym zysku informacyjnym\n",
        "    3. podział względem tego atrybutu\n",
        "    4. dopóki podbiory nie będą 'czyste' powrót do kroku 1.1  "
      ]
    },
    {
      "cell_type": "markdown",
      "metadata": {
        "id": "260dddrh_FJu"
      },
      "source": [
        "### Implementacja prostego drzewa decyzyjnego"
      ]
    },
    {
      "cell_type": "code",
      "metadata": {
        "id": "80iWXt6x0_yC"
      },
      "source": [
        "def find_entropy(df):\n",
        "    \"\"\"\n",
        "    Funkcja zwracająca entropię zmiennej objaśnianej (target).\n",
        "    \"\"\"\n",
        "    label = df.keys()[-1]\n",
        "    entropy = 0\n",
        "    values = df[label].unique()\n",
        "    for value in values:\n",
        "        fraction = df[label].value_counts()[value] / len(df[label])\n",
        "        entropy += -fraction * np.log2(fraction)\n",
        "    return entropy\n",
        "\n",
        "def find_entropy_attribute(df, attribute):\n",
        "    \"\"\"\n",
        "    Funkcja zwraca entropię dla wskazanego atrybutu.\n",
        "    \"\"\"\n",
        "    label = df.keys()[-1]\n",
        "    target_variables = df[label].unique()\n",
        "    variables = df[attribute].unique()\n",
        "    entropy2 = 0\n",
        "    for variable in variables:\n",
        "        entropy = 0\n",
        "        for target_variable in target_variables:\n",
        "            num = len(df[attribute][df[attribute] == variable][df[label] == target_variable])\n",
        "            den = len(df[attribute][df[attribute] == variable])\n",
        "            fraction = num / (den + epsilon)\n",
        "            entropy += - fraction * np.log2(fraction + epsilon)\n",
        "        fraction2 = den / len(df)\n",
        "        entropy2 += - fraction2 * entropy\n",
        "    return abs(entropy2)\n",
        "    \n",
        "    \n",
        "def find_winner(df):\n",
        "    \"\"\"\n",
        "    Funkcja zwraca nazwę atrybutu według, którego nastąpi podział (atrybut\n",
        "    posiadający największy zysk informacyjny).\n",
        "    \"\"\"\n",
        "    entropy_attr = []\n",
        "    IG = []\n",
        "    for key in df.keys()[:-1]:\n",
        "        IG.append(find_entropy(df) - find_entropy_attribute(df, key))\n",
        "    return df.keys()[:-1][np.argmax(IG)]\n",
        "\n",
        "def get_subtable(df, node, value):\n",
        "    return df[df[node] == value].reset_index(drop=True)\n",
        "\n",
        "def build_tree(df, tree=None):\n",
        "    \n",
        "    label = df.keys()[-1]\n",
        "    \n",
        "    # atrybut z największą wartością zysku informacyjnego\n",
        "    node = find_winner(df)\n",
        "    \n",
        "    # unikalne wartości dla wskazanego atrybutu\n",
        "    att_values = np.unique(df[node])\n",
        "    \n",
        "    # utworzenie pustego słownika do przechowania drzewa \n",
        "    if tree is None:\n",
        "        tree = {}\n",
        "        tree[node] = {}\n",
        "    \n",
        "    # wykonujemy pętlę aby zbudować drzewo, jeśli podzbiór jest czysty\n",
        "    # zatrzymujemy działanie pętli\n",
        "    for value in att_values:\n",
        "        \n",
        "        subtable = get_subtable(df, node, value)\n",
        "        class_value, counts = np.unique(subtable['Pożyczka'], return_counts=True)\n",
        "        \n",
        "        if len(counts) == 1:\n",
        "            tree[node][value] = class_value[0]\n",
        "        else:\n",
        "            tree[node][value] = build_tree(subtable)\n",
        "            \n",
        "    return tree"
      ],
      "execution_count": null,
      "outputs": []
    },
    {
      "cell_type": "code",
      "metadata": {
        "id": "U0jffTEV3j9u",
        "colab": {
          "base_uri": "https://localhost:8080/",
          "height": 66
        },
        "outputId": "8013a21e-9c07-4498-c758-94d008c2cf2a"
      },
      "source": [
        "tree = build_tree(df)\n",
        "tree"
      ],
      "execution_count": null,
      "outputs": [
        {
          "output_type": "execute_result",
          "data": {
            "text/plain": [
              "{'Wiarygodność': {'niska': 'Nie',\n",
              "  'wysoka': 'Tak',\n",
              "  'średnia': {'Dochód': {'niski': 'Nie', 'średni': 'Tak'}}}}"
            ]
          },
          "metadata": {
            "tags": []
          },
          "execution_count": 10
        }
      ]
    },
    {
      "cell_type": "code",
      "metadata": {
        "id": "y0lU9CRA5pMa",
        "colab": {
          "base_uri": "https://localhost:8080/",
          "height": 66
        },
        "outputId": "f204bc82-f895-4d2c-d8be-8be7ed82c3eb"
      },
      "source": [
        "import pprint\n",
        "pprint.pprint(tree)"
      ],
      "execution_count": null,
      "outputs": [
        {
          "output_type": "stream",
          "text": [
            "{'Wiarygodność': {'niska': 'Nie',\n",
            "                  'wysoka': 'Tak',\n",
            "                  'średnia': {'Dochód': {'niski': 'Nie', 'średni': 'Tak'}}}}\n"
          ],
          "name": "stdout"
        }
      ]
    },
    {
      "cell_type": "markdown",
      "metadata": {
        "id": "8QnTlRHn_J8D"
      },
      "source": [
        "### Predykcja na podstawie zbudowanego modelu"
      ]
    },
    {
      "cell_type": "code",
      "metadata": {
        "id": "2tzct1fu65IU"
      },
      "source": [
        "def predict(inst, tree):\n",
        "    \n",
        "    for nodes in tree.keys():\n",
        "        \n",
        "        value = inst[nodes]\n",
        "        tree = tree[nodes][value]\n",
        "        prediction = 0\n",
        "        \n",
        "        if type(tree) is dict:\n",
        "            prediction = predict(inst, tree)\n",
        "        else:\n",
        "            prediction = tree\n",
        "            break\n",
        "    return prediction"
      ],
      "execution_count": null,
      "outputs": []
    },
    {
      "cell_type": "code",
      "metadata": {
        "id": "tplbWUK47dmT",
        "colab": {
          "base_uri": "https://localhost:8080/",
          "height": 100
        },
        "outputId": "bc4ed18a-9781-4c44-fd12-4edf50d09bb8"
      },
      "source": [
        "sample = df.iloc[6]\n",
        "print(sample)"
      ],
      "execution_count": null,
      "outputs": [
        {
          "output_type": "stream",
          "text": [
            "Dochód          niski\n",
            "Wiek               25\n",
            "Wiarygodność    niska\n",
            "Pożyczka          Nie\n",
            "Name: 6, dtype: object\n"
          ],
          "name": "stdout"
        }
      ]
    },
    {
      "cell_type": "code",
      "metadata": {
        "id": "DqzqTDA_7g5y",
        "colab": {
          "base_uri": "https://localhost:8080/",
          "height": 33
        },
        "outputId": "b5a29f24-0204-4aa5-cee0-ea0e4e7a3ee0"
      },
      "source": [
        "predict(sample, tree)"
      ],
      "execution_count": null,
      "outputs": [
        {
          "output_type": "execute_result",
          "data": {
            "text/plain": [
              "'Nie'"
            ]
          },
          "metadata": {
            "tags": []
          },
          "execution_count": 14
        }
      ]
    }
  ]
}